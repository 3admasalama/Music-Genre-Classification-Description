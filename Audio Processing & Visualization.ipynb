{
 "cells": [
  {
   "cell_type": "code",
   "execution_count": 1,
   "id": "043b4a72-3450-40ae-89a3-a072d6c2801d",
   "metadata": {},
   "outputs": [],
   "source": [
    "import os\n",
    "import numpy as np\n",
    "import librosa\n",
    "import librosa.display\n",
    "import matplotlib.pyplot as plt"
   ]
  },
  {
   "cell_type": "code",
   "execution_count": 2,
   "id": "fc52b29c-f084-49ee-aecf-b4d04ac8d8be",
   "metadata": {},
   "outputs": [],
   "source": [
    "from sklearn.model_selection import train_test_split"
   ]
  },
  {
   "cell_type": "code",
   "execution_count": 3,
   "id": "211d2045-40f2-4475-86df-b25a82b51f7b",
   "metadata": {},
   "outputs": [],
   "source": [
    "from tensorflow.keras.models import Sequential\n",
    "from tensorflow.keras.layers import Conv2D, MaxPooling2D, Flatten, Dense, Dropout\n",
    "from tensorflow.keras.utils import to_categorical"
   ]
  },
  {
   "cell_type": "code",
   "execution_count": 4,
   "id": "341d070f-615a-43bd-acd9-533fe3a2b5b9",
   "metadata": {},
   "outputs": [],
   "source": [
    "DATASET_PATH = r\"C://Users//AbdelRahman//Desktop//Eleveoo Pathways Internship//Data//genres_original\""
   ]
  },
  {
   "cell_type": "code",
   "execution_count": 5,
   "id": "f8384f6c-645f-4ba1-8284-6f97f6ae27a8",
   "metadata": {},
   "outputs": [],
   "source": [
    "# Parameters\n",
    "SAMPLES_TO_CONSIDER = 22050 * 30  # 30 sec clips\n",
    "N_MFCC = 40\n"
   ]
  },
  {
   "cell_type": "code",
   "execution_count": 6,
   "id": "96056e1c-ada4-489c-bf3c-16da53573a2b",
   "metadata": {},
   "outputs": [],
   "source": [
    "# Genres in GTZAN\n",
    "genres = os.listdir(DATASET_PATH)\n",
    "\n",
    "def extract_features(file_path, n_mfcc=N_MFCC):\n",
    "    try:\n",
    "        # Load audio\n",
    "        y, sr = librosa.load(file_path, duration=30, sr=None)\n",
    "        # Ensure same length\n",
    "        if len(y) < SAMPLES_TO_CONSIDER:\n",
    "            y = np.pad(y, (0, SAMPLES_TO_CONSIDER - len(y)))\n",
    "        else:\n",
    "            y = y[:SAMPLES_TO_CONSIDER]\n",
    "        # Extract MFCCs\n",
    "        mfcc = librosa.feature.mfcc(y=y, sr=sr, n_mfcc=n_mfcc)\n",
    "        return mfcc\n",
    "    except Exception as e:\n",
    "        print(f\"Error loading {file_path}: {e}\")\n",
    "        return None\n"
   ]
  },
  {
   "cell_type": "code",
   "execution_count": 7,
   "id": "c23e2eb9-d08a-42e1-80bd-cfb08021f1c8",
   "metadata": {},
   "outputs": [
    {
     "name": "stderr",
     "output_type": "stream",
     "text": [
      "C:\\Users\\AbdelRahman\\anaconda3\\Lib\\site-packages\\paramiko\\pkey.py:82: CryptographyDeprecationWarning: TripleDES has been moved to cryptography.hazmat.decrepit.ciphers.algorithms.TripleDES and will be removed from this module in 48.0.0.\n",
      "  \"cipher\": algorithms.TripleDES,\n",
      "C:\\Users\\AbdelRahman\\anaconda3\\Lib\\site-packages\\paramiko\\transport.py:219: CryptographyDeprecationWarning: Blowfish has been moved to cryptography.hazmat.decrepit.ciphers.algorithms.Blowfish and will be removed from this module in 45.0.0.\n",
      "  \"class\": algorithms.Blowfish,\n",
      "C:\\Users\\AbdelRahman\\anaconda3\\Lib\\site-packages\\paramiko\\transport.py:243: CryptographyDeprecationWarning: TripleDES has been moved to cryptography.hazmat.decrepit.ciphers.algorithms.TripleDES and will be removed from this module in 48.0.0.\n",
      "  \"class\": algorithms.TripleDES,\n",
      "C:\\Users\\AbdelRahman\\AppData\\Local\\Temp\\ipykernel_4128\\1489972152.py:7: UserWarning: PySoundFile failed. Trying audioread instead.\n",
      "  y, sr = librosa.load(file_path, duration=30, sr=None)\n",
      "C:\\Users\\AbdelRahman\\anaconda3\\Lib\\site-packages\\librosa\\core\\audio.py:184: FutureWarning: librosa.core.audio.__audioread_load\n",
      "\tDeprecated as of librosa version 0.10.0.\n",
      "\tIt will be removed in librosa version 1.0.\n",
      "  y, sr_native = __audioread_load(path, offset, duration, dtype)\n"
     ]
    },
    {
     "name": "stdout",
     "output_type": "stream",
     "text": [
      "Error loading C://Users//AbdelRahman//Desktop//Eleveoo Pathways Internship//Data//genres_original\\jazz\\jazz.00054.wav: \n"
     ]
    }
   ],
   "source": [
    "# Prepare dataset\n",
    "X, y = [], []\n",
    "for label, genre in enumerate(genres):\n",
    "    genre_path = os.path.join(DATASET_PATH, genre)\n",
    "    for file in os.listdir(genre_path):\n",
    "        if file.endswith(\".wav\"):\n",
    "            file_path = os.path.join(genre_path, file)\n",
    "            mfcc = extract_features(file_path)\n",
    "            if mfcc is not None:\n",
    "                X.append(mfcc)\n",
    "                y.append(label)\n",
    "\n",
    "X = np.array(X)\n",
    "y = np.array(y)\n"
   ]
  },
  {
   "cell_type": "code",
   "execution_count": 8,
   "id": "650e6aa5-6f46-4a8a-83ab-e3fabbb0e872",
   "metadata": {},
   "outputs": [],
   "source": [
    "# Reshape for CNN: (samples, height, width, channels)\n",
    "X = X[..., np.newaxis]\n"
   ]
  },
  {
   "cell_type": "code",
   "execution_count": 9,
   "id": "74080e1c-a129-42ed-b86d-458165f04054",
   "metadata": {},
   "outputs": [],
   "source": [
    "# Train-test split\n",
    "X_train, X_test, y_train, y_test = train_test_split(X, y, test_size=0.2, random_state=42, stratify=y)\n"
   ]
  },
  {
   "cell_type": "code",
   "execution_count": 10,
   "id": "9e0523d5-a21b-4aea-ac29-2413cf15ca7b",
   "metadata": {},
   "outputs": [],
   "source": [
    "# One-hot encode labels\n",
    "y_train = to_categorical(y_train, num_classes=len(genres))\n",
    "y_test = to_categorical(y_test, num_classes=len(genres))"
   ]
  },
  {
   "cell_type": "code",
   "execution_count": 11,
   "id": "ac235e1f-dd2e-464a-a793-c2f1149b654b",
   "metadata": {},
   "outputs": [
    {
     "name": "stderr",
     "output_type": "stream",
     "text": [
      "C:\\Users\\AbdelRahman\\anaconda3\\Lib\\site-packages\\keras\\src\\layers\\convolutional\\base_conv.py:113: UserWarning: Do not pass an `input_shape`/`input_dim` argument to a layer. When using Sequential models, prefer using an `Input(shape)` object as the first layer in the model instead.\n",
      "  super().__init__(activity_regularizer=activity_regularizer, **kwargs)\n"
     ]
    }
   ],
   "source": [
    "# CNN Model\n",
    "model = Sequential([\n",
    "    Conv2D(32, (3,3), activation='relu', input_shape=(X.shape[1], X.shape[2], 1)),\n",
    "    MaxPooling2D((3,3), strides=(2,2)),\n",
    "    Dropout(0.3),\n",
    "    \n",
    "    Conv2D(64, (3,3), activation='relu'),\n",
    "    MaxPooling2D((3,3), strides=(2,2)),\n",
    "    Dropout(0.3),\n",
    "    \n",
    "    Flatten(),\n",
    "    Dense(128, activation='relu'),\n",
    "    Dropout(0.3),\n",
    "    Dense(len(genres), activation='softmax')\n",
    "])\n",
    "\n",
    "model.compile(optimizer='adam', loss='categorical_crossentropy', metrics=['accuracy'])\n"
   ]
  },
  {
   "cell_type": "code",
   "execution_count": 12,
   "id": "88cfadba-d198-44fa-a35b-7c5abd795dcf",
   "metadata": {},
   "outputs": [
    {
     "name": "stdout",
     "output_type": "stream",
     "text": [
      "Epoch 1/20\n",
      "\u001b[1m25/25\u001b[0m \u001b[32m━━━━━━━━━━━━━━━━━━━━\u001b[0m\u001b[37m\u001b[0m \u001b[1m30s\u001b[0m 1s/step - accuracy: 0.1414 - loss: 101.0220 - val_accuracy: 0.1000 - val_loss: 2.3018\n",
      "Epoch 2/20\n",
      "\u001b[1m25/25\u001b[0m \u001b[32m━━━━━━━━━━━━━━━━━━━━\u001b[0m\u001b[37m\u001b[0m \u001b[1m40s\u001b[0m 1s/step - accuracy: 0.1815 - loss: 2.2319 - val_accuracy: 0.0800 - val_loss: 2.3021\n",
      "Epoch 3/20\n",
      "\u001b[1m25/25\u001b[0m \u001b[32m━━━━━━━━━━━━━━━━━━━━\u001b[0m\u001b[37m\u001b[0m \u001b[1m28s\u001b[0m 1s/step - accuracy: 0.1915 - loss: 2.1790 - val_accuracy: 0.1450 - val_loss: 2.2804\n",
      "Epoch 4/20\n",
      "\u001b[1m25/25\u001b[0m \u001b[32m━━━━━━━━━━━━━━━━━━━━\u001b[0m\u001b[37m\u001b[0m \u001b[1m46s\u001b[0m 1s/step - accuracy: 0.2591 - loss: 2.0464 - val_accuracy: 0.1600 - val_loss: 2.2564\n",
      "Epoch 5/20\n",
      "\u001b[1m25/25\u001b[0m \u001b[32m━━━━━━━━━━━━━━━━━━━━\u001b[0m\u001b[37m\u001b[0m \u001b[1m35s\u001b[0m 1s/step - accuracy: 0.3204 - loss: 1.9539 - val_accuracy: 0.1650 - val_loss: 2.2189\n",
      "Epoch 6/20\n",
      "\u001b[1m25/25\u001b[0m \u001b[32m━━━━━━━━━━━━━━━━━━━━\u001b[0m\u001b[37m\u001b[0m \u001b[1m42s\u001b[0m 1s/step - accuracy: 0.3454 - loss: 1.8537 - val_accuracy: 0.2300 - val_loss: 2.2240\n",
      "Epoch 7/20\n",
      "\u001b[1m25/25\u001b[0m \u001b[32m━━━━━━━━━━━━━━━━━━━━\u001b[0m\u001b[37m\u001b[0m \u001b[1m29s\u001b[0m 1s/step - accuracy: 0.3667 - loss: 1.7484 - val_accuracy: 0.2300 - val_loss: 2.1877\n",
      "Epoch 8/20\n",
      "\u001b[1m25/25\u001b[0m \u001b[32m━━━━━━━━━━━━━━━━━━━━\u001b[0m\u001b[37m\u001b[0m \u001b[1m36s\u001b[0m 938ms/step - accuracy: 0.4406 - loss: 1.6173 - val_accuracy: 0.2200 - val_loss: 2.2111\n",
      "Epoch 9/20\n",
      "\u001b[1m25/25\u001b[0m \u001b[32m━━━━━━━━━━━━━━━━━━━━\u001b[0m\u001b[37m\u001b[0m \u001b[1m24s\u001b[0m 972ms/step - accuracy: 0.4456 - loss: 1.5274 - val_accuracy: 0.2600 - val_loss: 2.1509\n",
      "Epoch 10/20\n",
      "\u001b[1m25/25\u001b[0m \u001b[32m━━━━━━━━━━━━━━━━━━━━\u001b[0m\u001b[37m\u001b[0m \u001b[1m25s\u001b[0m 987ms/step - accuracy: 0.5269 - loss: 1.3871 - val_accuracy: 0.2250 - val_loss: 2.3471\n",
      "Epoch 11/20\n",
      "\u001b[1m25/25\u001b[0m \u001b[32m━━━━━━━━━━━━━━━━━━━━\u001b[0m\u001b[37m\u001b[0m \u001b[1m42s\u001b[0m 1s/step - accuracy: 0.5945 - loss: 1.2491 - val_accuracy: 0.2550 - val_loss: 2.6025\n",
      "Epoch 12/20\n",
      "\u001b[1m25/25\u001b[0m \u001b[32m━━━━━━━━━━━━━━━━━━━━\u001b[0m\u001b[37m\u001b[0m \u001b[1m25s\u001b[0m 1s/step - accuracy: 0.6020 - loss: 1.1793 - val_accuracy: 0.2500 - val_loss: 2.6459\n",
      "Epoch 13/20\n",
      "\u001b[1m25/25\u001b[0m \u001b[32m━━━━━━━━━━━━━━━━━━━━\u001b[0m\u001b[37m\u001b[0m \u001b[1m41s\u001b[0m 1s/step - accuracy: 0.6721 - loss: 1.0180 - val_accuracy: 0.2500 - val_loss: 2.7055\n",
      "Epoch 14/20\n",
      "\u001b[1m25/25\u001b[0m \u001b[32m━━━━━━━━━━━━━━━━━━━━\u001b[0m\u001b[37m\u001b[0m \u001b[1m25s\u001b[0m 1s/step - accuracy: 0.6821 - loss: 0.9576 - val_accuracy: 0.2500 - val_loss: 2.7715\n",
      "Epoch 15/20\n",
      "\u001b[1m25/25\u001b[0m \u001b[32m━━━━━━━━━━━━━━━━━━━━\u001b[0m\u001b[37m\u001b[0m \u001b[1m26s\u001b[0m 1s/step - accuracy: 0.6984 - loss: 0.8685 - val_accuracy: 0.2600 - val_loss: 3.0795\n",
      "Epoch 16/20\n",
      "\u001b[1m25/25\u001b[0m \u001b[32m━━━━━━━━━━━━━━━━━━━━\u001b[0m\u001b[37m\u001b[0m \u001b[1m40s\u001b[0m 988ms/step - accuracy: 0.7409 - loss: 0.8488 - val_accuracy: 0.2400 - val_loss: 3.0276\n",
      "Epoch 17/20\n",
      "\u001b[1m25/25\u001b[0m \u001b[32m━━━━━━━━━━━━━━━━━━━━\u001b[0m\u001b[37m\u001b[0m \u001b[1m25s\u001b[0m 987ms/step - accuracy: 0.7847 - loss: 0.6812 - val_accuracy: 0.2350 - val_loss: 3.6417\n",
      "Epoch 18/20\n",
      "\u001b[1m25/25\u001b[0m \u001b[32m━━━━━━━━━━━━━━━━━━━━\u001b[0m\u001b[37m\u001b[0m \u001b[1m42s\u001b[0m 1s/step - accuracy: 0.7935 - loss: 0.6580 - val_accuracy: 0.2200 - val_loss: 3.5644\n",
      "Epoch 19/20\n",
      "\u001b[1m25/25\u001b[0m \u001b[32m━━━━━━━━━━━━━━━━━━━━\u001b[0m\u001b[37m\u001b[0m \u001b[1m25s\u001b[0m 989ms/step - accuracy: 0.8098 - loss: 0.6325 - val_accuracy: 0.2200 - val_loss: 3.2693\n",
      "Epoch 20/20\n",
      "\u001b[1m25/25\u001b[0m \u001b[32m━━━━━━━━━━━━━━━━━━━━\u001b[0m\u001b[37m\u001b[0m \u001b[1m42s\u001b[0m 1s/step - accuracy: 0.8235 - loss: 0.5583 - val_accuracy: 0.2600 - val_loss: 3.4001\n"
     ]
    }
   ],
   "source": [
    "history = model.fit(X_train, y_train, validation_data=(X_test, y_test), epochs=20, batch_size=32)\n"
   ]
  },
  {
   "cell_type": "code",
   "execution_count": 13,
   "id": "d5e1cefd-2ebe-4725-aa98-e888c75c97ce",
   "metadata": {},
   "outputs": [
    {
     "name": "stdout",
     "output_type": "stream",
     "text": [
      "\u001b[1m7/7\u001b[0m \u001b[32m━━━━━━━━━━━━━━━━━━━━\u001b[0m\u001b[37m\u001b[0m \u001b[1m1s\u001b[0m 197ms/step - accuracy: 0.2600 - loss: 3.4001\n",
      "Test accuracy: 0.25999999046325684\n"
     ]
    }
   ],
   "source": [
    "# Evaluate\n",
    "test_loss, test_acc = model.evaluate(X_test, y_test)\n",
    "print(\"Test accuracy:\", test_acc)"
   ]
  },
  {
   "cell_type": "code",
   "execution_count": 14,
   "id": "730fae9d-86c3-4749-a3fe-f4c36844fd4c",
   "metadata": {},
   "outputs": [
    {
     "data": {
      "image/png": "[encoded data removed]",
      "text/plain": [
       "<Figure size 640x480 with 1 Axes>"
      ]
     },
     "metadata": {},
     "output_type": "display_data"
    }
   ],
   "source": [
    "# Plot training history\n",
    "plt.plot(history.history['accuracy'], label='Train acc')\n",
    "plt.plot(history.history['val_accuracy'], label='Val acc')\n",
    "plt.legend()\n",
    "plt.show()"
   ]
  },
  {
   "cell_type": "code",
   "execution_count": null,
   "id": "b04a7829-3644-4dad-9766-e3ebfa8017dc",
   "metadata": {},
   "outputs": [],
   "source": []
  }
 ],
 "metadata": {
  "kernelspec": {
   "display_name": "Python 3 (ipykernel)",
   "language": "python",
   "name": "python3"
  },
  "language_info": {
   "codemirror_mode": {
    "name": "ipython",
    "version": 3
   },
   "file_extension": ".py",
   "mimetype": "text/x-python",
   "name": "python",
   "nbconvert_exporter": "python",
   "pygments_lexer": "ipython3",
   "version": "3.12.7"
  }
 },
 "nbformat": 4,
 "nbformat_minor": 5
}
